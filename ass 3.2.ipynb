{
 "cells": [
  {
   "cell_type": "markdown",
   "id": "f4bed338-8198-483a-8274-69a72a1b44b9",
   "metadata": {},
   "source": [
    "Q1. Create a python program to sort the given list of tuples based on integer value using a\n",
    "lambda function.[('Sachin Tendulkar', 34357), ('Ricky Ponting', 27483), ('Jack Kallis', 25534), ('Virat Kohli', 24936)]"
   ]
  },
  {
   "cell_type": "code",
   "execution_count": 9,
   "id": "d321fafb-ffa2-41ea-ac18-88c854cf6278",
   "metadata": {},
   "outputs": [
    {
     "name": "stdout",
     "output_type": "stream",
     "text": [
      "('Virat Kohli', 24936)\n",
      "('Jack Kallis', 25534)\n",
      "('Ricky Ponting', 27483)\n",
      "('Sachin Tendulkar', 34357)\n"
     ]
    }
   ],
   "source": [
    "l = [('Sachin Tendulkar', 34357), ('Ricky Ponting', 27483), ('Jack Kallis', 25534), ('Virat Kohli', 24936)]\n",
    "\n",
    "sorted_players = sorted(l, key=lambda x: x[1])\n",
    "\n",
    "for l in sorted_players:\n",
    "    print(l)"
   ]
  },
  {
   "cell_type": "markdown",
   "id": "24e1ccb7-6d56-492b-bb09-b3ca6c9bbc3b",
   "metadata": {},
   "source": [
    "Q2. Write a Python Program to find the squares of all the numbers in the given list of integers using\n",
    "lambda and map functions.\n",
    "[1, 2, 3, 4, 5, 6, 7, 8, 9, 10]."
   ]
  },
  {
   "cell_type": "code",
   "execution_count": 10,
   "id": "bb01d937-e2cf-4b98-acf6-5f47cdc2088e",
   "metadata": {},
   "outputs": [],
   "source": [
    "l=[1,2,3,4,5,6,7,8,9,10]"
   ]
  },
  {
   "cell_type": "code",
   "execution_count": 11,
   "id": "d3063253-f411-4a60-b0f2-dec9251d848a",
   "metadata": {},
   "outputs": [
    {
     "data": {
      "text/plain": [
       "[1, 2, 3, 4, 5, 6, 7, 8, 9, 10]"
      ]
     },
     "execution_count": 11,
     "metadata": {},
     "output_type": "execute_result"
    }
   ],
   "source": [
    "l"
   ]
  },
  {
   "cell_type": "code",
   "execution_count": 12,
   "id": "62eb483a-9d83-4794-b4bf-753f7edad2a5",
   "metadata": {},
   "outputs": [],
   "source": [
    "def squr(l):\n",
    "    for i in l:\n",
    "        print(i**2)"
   ]
  },
  {
   "cell_type": "code",
   "execution_count": 13,
   "id": "fb64e43d-0198-40cb-915e-cbf5e4c648d9",
   "metadata": {},
   "outputs": [
    {
     "name": "stdout",
     "output_type": "stream",
     "text": [
      "1\n",
      "4\n",
      "9\n",
      "16\n",
      "25\n",
      "36\n",
      "49\n",
      "64\n",
      "81\n",
      "100\n"
     ]
    }
   ],
   "source": [
    "squr(l)"
   ]
  },
  {
   "cell_type": "code",
   "execution_count": 14,
   "id": "5b04b554-ac9f-4a4f-9de6-947278a24785",
   "metadata": {},
   "outputs": [
    {
     "data": {
      "text/plain": [
       "[1, 4, 9, 16, 25, 36, 49, 64, 81, 100]"
      ]
     },
     "execution_count": 14,
     "metadata": {},
     "output_type": "execute_result"
    }
   ],
   "source": [
    "#using lambda and map functions.#\n",
    "list(map(lambda x:x**2,l))"
   ]
  },
  {
   "cell_type": "markdown",
   "id": "2549f4bf-c430-426c-a316-9e573647d8a2",
   "metadata": {},
   "source": [
    "Q3. Write a python program to convert the given list of integers into a tuple of strings. Use map and\n",
    "lambda functions\n",
    "Given String: [1, 2, 3, 4, 5, 6, 7, 8, 9, 10]\n",
    "Expected output: ('1', '2', '3', '4', '5', '6', '7', '8', '9', '10')."
   ]
  },
  {
   "cell_type": "code",
   "execution_count": 23,
   "id": "f0b3929c-3210-46ac-9135-ea7f2d7548c7",
   "metadata": {},
   "outputs": [],
   "source": [
    "l=[1,2,3,4,5,6,7,8,9,10]"
   ]
  },
  {
   "cell_type": "code",
   "execution_count": 24,
   "id": "8b021623-47eb-4448-84b7-74a009275f2c",
   "metadata": {},
   "outputs": [
    {
     "name": "stdout",
     "output_type": "stream",
     "text": [
      "('1', '2', '3', '4', '5', '6', '7', '8', '9', '10')\n"
     ]
    }
   ],
   "source": [
    "print(tuple(map(lambda x:str(x),l)))"
   ]
  },
  {
   "cell_type": "code",
   "execution_count": 25,
   "id": "66d84390-e883-457a-ab6b-d3373c8195c8",
   "metadata": {},
   "outputs": [
    {
     "name": "stdout",
     "output_type": "stream",
     "text": [
      "['1', '2', '3', '4', '5', '6', '7', '8', '9', '10']\n"
     ]
    }
   ],
   "source": [
    "# we also convert into list #\n",
    "print(list(map(lambda x:str(x),l)))"
   ]
  },
  {
   "cell_type": "markdown",
   "id": "44de37fe-d6ff-40dc-b2e1-3fbabb76c090",
   "metadata": {},
   "source": [
    "Q4.  What is a generator function in python? Why yield keyword is used? Give an example of a generator \n",
    "function."
   ]
  },
  {
   "cell_type": "code",
   "execution_count": 34,
   "id": "1518c15c-bcee-4793-92c2-1627221fe71c",
   "metadata": {},
   "outputs": [],
   "source": [
    "# yield is generator function in python .as a return type yield is used in python.\n",
    "def fibo(n):\n",
    "    a,b=0,1\n",
    "    for i in range (n):\n",
    "        yield a\n",
    "        a,b=b,a+b"
   ]
  },
  {
   "cell_type": "code",
   "execution_count": 35,
   "id": "92826ca2-bcf4-4b6f-9b27-815d085683c4",
   "metadata": {},
   "outputs": [
    {
     "data": {
      "text/plain": [
       "<generator object fibo at 0x7f1238292c70>"
      ]
     },
     "execution_count": 35,
     "metadata": {},
     "output_type": "execute_result"
    }
   ],
   "source": [
    "fibo(7)"
   ]
  },
  {
   "cell_type": "code",
   "execution_count": 36,
   "id": "7461e3b3-008e-4c43-9439-f497e43aecec",
   "metadata": {},
   "outputs": [
    {
     "name": "stdout",
     "output_type": "stream",
     "text": [
      "0\n",
      "1\n",
      "1\n",
      "2\n",
      "3\n",
      "5\n",
      "8\n",
      "13\n",
      "21\n",
      "34\n"
     ]
    }
   ],
   "source": [
    "for i in fibo(10):\n",
    "    print(i)"
   ]
  },
  {
   "cell_type": "markdown",
   "id": "7cb06251-c40b-458f-a57e-cfd3753ca83f",
   "metadata": {},
   "source": [
    "Q5. Write a python program to filter the numbers in a given list that are divisible by 2 and 3 using the\n",
    "filter function.\n",
    "[2, 3, 6, 9, 27, 60, 90, 120, 55, 46]."
   ]
  },
  {
   "cell_type": "code",
   "execution_count": 37,
   "id": "5266f053-e029-4d70-b6c0-53efebee5fa5",
   "metadata": {},
   "outputs": [],
   "source": [
    "l=[2,3,6,9,27,60,90,120,55,46]"
   ]
  },
  {
   "cell_type": "code",
   "execution_count": 38,
   "id": "bf2af78b-284e-48ab-b3e5-8945613227e6",
   "metadata": {},
   "outputs": [
    {
     "data": {
      "text/plain": [
       "[2, 3, 6, 9, 27, 60, 90, 120, 55, 46]"
      ]
     },
     "execution_count": 38,
     "metadata": {},
     "output_type": "execute_result"
    }
   ],
   "source": [
    "l"
   ]
  },
  {
   "cell_type": "code",
   "execution_count": 40,
   "id": "14cb1b2b-45fe-45c2-a848-35994a958205",
   "metadata": {},
   "outputs": [
    {
     "data": {
      "text/plain": [
       "[2, 3, 6, 9, 27, 60, 90, 120, 46]"
      ]
     },
     "execution_count": 40,
     "metadata": {},
     "output_type": "execute_result"
    }
   ],
   "source": [
    "list(filter(lambda x:x%2==0 or x%3==0,l))"
   ]
  },
  {
   "cell_type": "markdown",
   "id": "56f2dcac-09c7-4c74-8ff4-6926d8b96be0",
   "metadata": {},
   "source": [
    "Q6. Write a python program to find palindromes in the given list of strings using lambda and filter\n",
    "function.\n",
    "['python', 'php', 'aba', 'radar', 'level']."
   ]
  },
  {
   "cell_type": "code",
   "execution_count": 41,
   "id": "af123125-73be-4f23-8abe-b4d1af50b41b",
   "metadata": {},
   "outputs": [],
   "source": [
    "l2= ['python', 'php', 'aba', 'radar', 'level']"
   ]
  },
  {
   "cell_type": "code",
   "execution_count": 42,
   "id": "38de4869-dc4c-4308-9636-e013da93d04b",
   "metadata": {},
   "outputs": [
    {
     "data": {
      "text/plain": [
       "['python', 'php', 'aba', 'radar', 'level']"
      ]
     },
     "execution_count": 42,
     "metadata": {},
     "output_type": "execute_result"
    }
   ],
   "source": [
    "l2"
   ]
  },
  {
   "cell_type": "code",
   "execution_count": 44,
   "id": "824dc94f-2010-46fe-8f81-5c0c909d4a54",
   "metadata": {},
   "outputs": [
    {
     "data": {
      "text/plain": [
       "['python', 'php', 'aba', 'radar', 'level']"
      ]
     },
     "execution_count": 44,
     "metadata": {},
     "output_type": "execute_result"
    }
   ],
   "source": [
    "list(filter(lambda x:x,l2))"
   ]
  }
 ],
 "metadata": {
  "kernelspec": {
   "display_name": "Python 3 (ipykernel)",
   "language": "python",
   "name": "python3"
  },
  "language_info": {
   "codemirror_mode": {
    "name": "ipython",
    "version": 3
   },
   "file_extension": ".py",
   "mimetype": "text/x-python",
   "name": "python",
   "nbconvert_exporter": "python",
   "pygments_lexer": "ipython3",
   "version": "3.10.8"
  }
 },
 "nbformat": 4,
 "nbformat_minor": 5
}
